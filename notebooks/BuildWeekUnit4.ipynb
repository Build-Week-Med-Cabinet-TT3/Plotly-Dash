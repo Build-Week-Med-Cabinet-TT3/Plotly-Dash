{
 "cells": [
  {
   "cell_type": "code",
   "execution_count": 1,
   "metadata": {
    "colab": {
     "base_uri": "https://localhost:8080/"
    },
    "id": "1meFoCF188Xr",
    "outputId": "b0c5af63-86d9-4277-da1a-3935ba40a3af"
   },
   "outputs": [
    {
     "output_type": "stream",
     "name": "stdout",
     "text": [
      "Requirement already satisfied: sklearn in c:\\users\\ashby\\.virtualenvs\\lol-win-lose-app-qj6oqnwp\\lib\\site-packages (0.0)\n",
      "Requirement already satisfied: scikit-learn in c:\\users\\ashby\\.virtualenvs\\lol-win-lose-app-qj6oqnwp\\lib\\site-packages (from sklearn) (0.22.2.post1)\n",
      "Requirement already satisfied: scipy>=0.17.0 in c:\\users\\ashby\\.virtualenvs\\lol-win-lose-app-qj6oqnwp\\lib\\site-packages (from scikit-learn->sklearn) (1.5.2)\n",
      "Requirement already satisfied: numpy>=1.11.0 in c:\\users\\ashby\\.virtualenvs\\lol-win-lose-app-qj6oqnwp\\lib\\site-packages (from scikit-learn->sklearn) (1.19.2)\n",
      "Requirement already satisfied: joblib>=0.11 in c:\\users\\ashby\\.virtualenvs\\lol-win-lose-app-qj6oqnwp\\lib\\site-packages (from scikit-learn->sklearn) (0.16.0)\n",
      "WARNING: You are using pip version 20.2.2; however, version 20.2.4 is available.\n",
      "You should consider upgrading via the 'C:\\Users\\ashby\\.virtualenvs\\LoL-Win-Lose-App-Qj6oQNwP\\Scripts\\python.exe -m pip install --upgrade pip' command.\n"
     ]
    }
   ],
   "source": [
    "!pip install sklearn"
   ]
  },
  {
   "cell_type": "code",
   "execution_count": 2,
   "metadata": {},
   "outputs": [
    {
     "output_type": "stream",
     "name": "stdout",
     "text": [
      "Collecting spacy\n",
      "  Using cached spacy-2.3.2-cp38-cp38-win_amd64.whl (9.5 MB)\n",
      "Collecting thinc==7.4.1\n",
      "  Using cached thinc-7.4.1-cp38-cp38-win_amd64.whl (2.1 MB)\n",
      "Requirement already satisfied: numpy>=1.15.0 in c:\\users\\ashby\\.virtualenvs\\lol-win-lose-app-qj6oqnwp\\lib\\site-packages (from spacy) (1.19.2)\n",
      "Collecting plac<1.2.0,>=0.9.6\n",
      "  Using cached plac-1.1.3-py2.py3-none-any.whl (20 kB)\n",
      "Collecting wasabi<1.1.0,>=0.4.0\n",
      "  Using cached wasabi-0.8.0-py3-none-any.whl (23 kB)\n",
      "Collecting blis<0.5.0,>=0.4.0\n",
      "  Using cached blis-0.4.1-cp38-cp38-win_amd64.whl (5.0 MB)\n",
      "Collecting tqdm<5.0.0,>=4.38.0\n",
      "  Using cached tqdm-4.52.0-py2.py3-none-any.whl (71 kB)\n",
      "Collecting requests<3.0.0,>=2.13.0\n",
      "  Using cached requests-2.25.0-py2.py3-none-any.whl (61 kB)\n",
      "Collecting cymem<2.1.0,>=2.0.2\n",
      "  Using cached cymem-2.0.4-cp38-cp38-win_amd64.whl (36 kB)\n",
      "Collecting srsly<1.1.0,>=1.0.2\n",
      "  Using cached srsly-1.0.4-cp38-cp38-win_amd64.whl (287 kB)\n",
      "Collecting catalogue<1.1.0,>=0.0.7\n",
      "  Using cached catalogue-1.0.0-py2.py3-none-any.whl (7.7 kB)\n",
      "Requirement already satisfied: setuptools in c:\\users\\ashby\\.virtualenvs\\lol-win-lose-app-qj6oqnwp\\lib\\site-packages (from spacy) (49.6.0)\n",
      "Collecting preshed<3.1.0,>=3.0.2\n",
      "  Using cached preshed-3.0.4-cp38-cp38-win_amd64.whl (270 kB)\n",
      "Collecting murmurhash<1.1.0,>=0.28.0\n",
      "  Using cached murmurhash-1.0.4-cp38-cp38-win_amd64.whl (21 kB)\n",
      "Collecting urllib3<1.27,>=1.21.1\n",
      "  Using cached urllib3-1.26.2-py2.py3-none-any.whl (136 kB)\n",
      "Collecting idna<3,>=2.5\n",
      "  Using cached idna-2.10-py2.py3-none-any.whl (58 kB)\n",
      "Requirement already satisfied: certifi>=2017.4.17 in c:\\users\\ashby\\.virtualenvs\\lol-win-lose-app-qj6oqnwp\\lib\\site-packages (from requests<3.0.0,>=2.13.0->spacy) (2020.6.20)\n",
      "Collecting chardet<4,>=3.0.2\n",
      "  Using cached chardet-3.0.4-py2.py3-none-any.whl (133 kB)\n",
      "Installing collected packages: srsly, cymem, murmurhash, preshed, plac, wasabi, blis, tqdm, catalogue, thinc, urllib3, idna, chardet, requests, spacy\n",
      "Successfully installed blis-0.4.1 catalogue-1.0.0 chardet-3.0.4 cymem-2.0.4 idna-2.10 murmurhash-1.0.4 plac-1.1.3 preshed-3.0.4 requests-2.25.0 spacy-2.3.2 srsly-1.0.4 thinc-7.4.1 tqdm-4.52.0 urllib3-1.26.2 wasabi-0.8.0\n",
      "WARNING: You are using pip version 20.2.2; however, version 20.2.4 is available.\n",
      "You should consider upgrading via the 'C:\\Users\\ashby\\.virtualenvs\\LoL-Win-Lose-App-Qj6oQNwP\\Scripts\\python.exe -m pip install --upgrade pip' command.\n"
     ]
    }
   ],
   "source": [
    "!pip install spacy"
   ]
  },
  {
   "cell_type": "code",
   "execution_count": 3,
   "metadata": {
    "colab": {
     "base_uri": "https://localhost:8080/"
    },
    "id": "wbuK_3bPkzBU",
    "outputId": "f88c1416-c1eb-49fe-bc29-bc161acf7420"
   },
   "outputs": [
    {
     "output_type": "stream",
     "name": "stdout",
     "text": [
      "Collecting en_core_web_lg==2.3.1\n",
      "  Downloading https://github.com/explosion/spacy-models/releases/download/en_core_web_lg-2.3.1/en_core_web_lg-2.3.1.tar.gz (782.7 MB)\n",
      "Requirement already satisfied: spacy<2.4.0,>=2.3.0 in c:\\users\\ashby\\.virtualenvs\\lol-win-lose-app-qj6oqnwp\\lib\\site-packages (from en_core_web_lg==2.3.1) (2.3.2)\n",
      "Requirement already satisfied: preshed<3.1.0,>=3.0.2 in c:\\users\\ashby\\.virtualenvs\\lol-win-lose-app-qj6oqnwp\\lib\\site-packages (from spacy<2.4.0,>=2.3.0->en_core_web_lg==2.3.1) (3.0.4)\n",
      "Requirement already satisfied: murmurhash<1.1.0,>=0.28.0 in c:\\users\\ashby\\.virtualenvs\\lol-win-lose-app-qj6oqnwp\\lib\\site-packages (from spacy<2.4.0,>=2.3.0->en_core_web_lg==2.3.1) (1.0.4)\n",
      "Requirement already satisfied: blis<0.5.0,>=0.4.0 in c:\\users\\ashby\\.virtualenvs\\lol-win-lose-app-qj6oqnwp\\lib\\site-packages (from spacy<2.4.0,>=2.3.0->en_core_web_lg==2.3.1) (0.4.1)\n",
      "Requirement already satisfied: numpy>=1.15.0 in c:\\users\\ashby\\.virtualenvs\\lol-win-lose-app-qj6oqnwp\\lib\\site-packages (from spacy<2.4.0,>=2.3.0->en_core_web_lg==2.3.1) (1.19.2)\n",
      "Requirement already satisfied: plac<1.2.0,>=0.9.6 in c:\\users\\ashby\\.virtualenvs\\lol-win-lose-app-qj6oqnwp\\lib\\site-packages (from spacy<2.4.0,>=2.3.0->en_core_web_lg==2.3.1) (1.1.3)\n",
      "Requirement already satisfied: cymem<2.1.0,>=2.0.2 in c:\\users\\ashby\\.virtualenvs\\lol-win-lose-app-qj6oqnwp\\lib\\site-packages (from spacy<2.4.0,>=2.3.0->en_core_web_lg==2.3.1) (2.0.4)\n",
      "Requirement already satisfied: requests<3.0.0,>=2.13.0 in c:\\users\\ashby\\.virtualenvs\\lol-win-lose-app-qj6oqnwp\\lib\\site-packages (from spacy<2.4.0,>=2.3.0->en_core_web_lg==2.3.1) (2.25.0)\n",
      "Requirement already satisfied: setuptools in c:\\users\\ashby\\.virtualenvs\\lol-win-lose-app-qj6oqnwp\\lib\\site-packages (from spacy<2.4.0,>=2.3.0->en_core_web_lg==2.3.1) (49.6.0)\n",
      "Requirement already satisfied: srsly<1.1.0,>=1.0.2 in c:\\users\\ashby\\.virtualenvs\\lol-win-lose-app-qj6oqnwp\\lib\\site-packages (from spacy<2.4.0,>=2.3.0->en_core_web_lg==2.3.1) (1.0.4)\n",
      "Requirement already satisfied: thinc==7.4.1 in c:\\users\\ashby\\.virtualenvs\\lol-win-lose-app-qj6oqnwp\\lib\\site-packages (from spacy<2.4.0,>=2.3.0->en_core_web_lg==2.3.1) (7.4.1)\n",
      "Requirement already satisfied: catalogue<1.1.0,>=0.0.7 in c:\\users\\ashby\\.virtualenvs\\lol-win-lose-app-qj6oqnwp\\lib\\site-packages (from spacy<2.4.0,>=2.3.0->en_core_web_lg==2.3.1) (1.0.0)\n",
      "Requirement already satisfied: wasabi<1.1.0,>=0.4.0 in c:\\users\\ashby\\.virtualenvs\\lol-win-lose-app-qj6oqnwp\\lib\\site-packages (from spacy<2.4.0,>=2.3.0->en_core_web_lg==2.3.1) (0.8.0)\n",
      "Requirement already satisfied: tqdm<5.0.0,>=4.38.0 in c:\\users\\ashby\\.virtualenvs\\lol-win-lose-app-qj6oqnwp\\lib\\site-packages (from spacy<2.4.0,>=2.3.0->en_core_web_lg==2.3.1) (4.52.0)\n",
      "Requirement already satisfied: certifi>=2017.4.17 in c:\\users\\ashby\\.virtualenvs\\lol-win-lose-app-qj6oqnwp\\lib\\site-packages (from requests<3.0.0,>=2.13.0->spacy<2.4.0,>=2.3.0->en_core_web_lg==2.3.1) (2020.6.20)\n",
      "Requirement already satisfied: idna<3,>=2.5 in c:\\users\\ashby\\.virtualenvs\\lol-win-lose-app-qj6oqnwp\\lib\\site-packages (from requests<3.0.0,>=2.13.0->spacy<2.4.0,>=2.3.0->en_core_web_lg==2.3.1) (2.10)\n",
      "Requirement already satisfied: urllib3<1.27,>=1.21.1 in c:\\users\\ashby\\.virtualenvs\\lol-win-lose-app-qj6oqnwp\\lib\\site-packages (from requests<3.0.0,>=2.13.0->spacy<2.4.0,>=2.3.0->en_core_web_lg==2.3.1) (1.26.2)\n",
      "Requirement already satisfied: chardet<4,>=3.0.2 in c:\\users\\ashby\\.virtualenvs\\lol-win-lose-app-qj6oqnwp\\lib\\site-packages (from requests<3.0.0,>=2.13.0->spacy<2.4.0,>=2.3.0->en_core_web_lg==2.3.1) (3.0.4)\n",
      "Building wheels for collected packages: en-core-web-lg\n",
      "  Building wheel for en-core-web-lg (setup.py): started\n",
      "  Building wheel for en-core-web-lg (setup.py): finished with status 'done'\n",
      "  Created wheel for en-core-web-lg: filename=en_core_web_lg-2.3.1-py3-none-any.whl size=782936127 sha256=e6ec3d98bc85ae5de8aca2316edaaac51f5f605e7656d1b7ccb8a6e2adaf09bd\n",
      "  Stored in directory: C:\\Users\\ashby\\AppData\\Local\\Temp\\pip-ephem-wheel-cache-wa4ar04r\\wheels\\8b\\bb\\bb\\bdc918f4b37d930a1be9ed876e7b2c2ee518a34803d78a248e\n",
      "Successfully built en-core-web-lg\n",
      "Installing collected packages: en-core-web-lg\n",
      "Successfully installed en-core-web-lg-2.3.1\n",
      "✔ Download and installation successful\n",
      "You can now load the model via spacy.load('en_core_web_lg')\n",
      "WARNING: You are using pip version 20.2.2; however, version 20.2.4 is available.\n",
      "You should consider upgrading via the 'C:\\Users\\ashby\\.virtualenvs\\LoL-Win-Lose-App-Qj6oQNwP\\Scripts\\python.exe -m pip install --upgrade pip' command.\n"
     ]
    }
   ],
   "source": [
    "!python -m spacy download en_core_web_lg"
   ]
  },
  {
   "cell_type": "code",
   "execution_count": 5,
   "metadata": {
    "colab": {
     "base_uri": "https://localhost:8080/"
    },
    "id": "-zOiIkdIM8y1",
    "outputId": "66d6b9ea-da00-496e-b2b3-b9f400c32168"
   },
   "outputs": [
    {
     "output_type": "stream",
     "name": "stdout",
     "text": [
      "Requirement already satisfied: pandas in c:\\users\\ashby\\.virtualenvs\\lol-win-lose-app-qj6oqnwp\\lib\\site-packages (1.1.2)\n",
      "Requirement already satisfied: pytz>=2017.2 in c:\\users\\ashby\\.virtualenvs\\lol-win-lose-app-qj6oqnwp\\lib\\site-packages (from pandas) (2020.1)\n",
      "Requirement already satisfied: python-dateutil>=2.7.3 in c:\\users\\ashby\\.virtualenvs\\lol-win-lose-app-qj6oqnwp\\lib\\site-packages (from pandas) (2.8.1)\n",
      "Requirement already satisfied: numpy>=1.15.4 in c:\\users\\ashby\\.virtualenvs\\lol-win-lose-app-qj6oqnwp\\lib\\site-packages (from pandas) (1.19.2)\n",
      "Requirement already satisfied: six>=1.5 in c:\\users\\ashby\\.virtualenvs\\lol-win-lose-app-qj6oqnwp\\lib\\site-packages (from python-dateutil>=2.7.3->pandas) (1.15.0)\n",
      "WARNING: You are using pip version 20.2.2; however, version 20.2.4 is available.\n",
      "You should consider upgrading via the 'C:\\Users\\ashby\\.virtualenvs\\LoL-Win-Lose-App-Qj6oQNwP\\Scripts\\python.exe -m pip install --upgrade pip' command.\n"
     ]
    }
   ],
   "source": [
    "!pip install pandas"
   ]
  },
  {
   "cell_type": "code",
   "execution_count": 6,
   "metadata": {
    "id": "RNPn_lRYk1zx"
   },
   "outputs": [],
   "source": [
    "import pandas as pd\n",
    "import numpy as np\n",
    "df = pd.read_csv('https://raw.githubusercontent.com/kushyapp/cannabis-dataset/master/Dataset/Strains/strains-kushy_api.2017-11-14.csv', index_col='id')"
   ]
  },
  {
   "cell_type": "code",
   "execution_count": 7,
   "metadata": {
    "colab": {
     "base_uri": "https://localhost:8080/",
     "height": 594
    },
    "id": "a1m6qXy0bkCl",
    "outputId": "b86b706c-e2d1-45a7-95be-e5a7b9f1b1cc"
   },
   "outputs": [
    {
     "output_type": "execute_result",
     "data": {
      "text/plain": [
       "    status  sort               name  slug  image  \\\n",
       "id                                                 \n",
       "1        1     0             100 OG   NaN    NaN   \n",
       "2        1     0       707 Headband   NaN    NaN   \n",
       "3        1     0               A-10   NaN    NaN   \n",
       "4        1     0      Acapulco Gold   NaN    NaN   \n",
       "5        1     0  Afghani Bullrider   NaN    NaN   \n",
       "\n",
       "                                          description    type  crosses  \\\n",
       "id                                                                       \n",
       "1   <p>This strain is named after it's high price ...  Hybrid      NaN   \n",
       "2                                                 NaN  Hybrid  378,272   \n",
       "3                                                 NaN  Indica        0   \n",
       "4                                                 NaN  Sativa        0   \n",
       "5                                                 NaN  Hybrid        0   \n",
       "\n",
       "                             breeder  \\\n",
       "id                                     \n",
       "1   Old School Breeder's Association   \n",
       "2                    Unknown Breeder   \n",
       "3                                NaN   \n",
       "4                                NaN   \n",
       "5                    Unknown Breeder   \n",
       "\n",
       "                                              effects  ... cbn  cbg cbgm cbgv  \\\n",
       "id                                                     ...                      \n",
       "1                                             Focused  ...  10  0.0  0.0  0.0   \n",
       "2                                                 NaN  ...   0  NaN  NaN  NaN   \n",
       "3   Relaxed, Happy, Uplifted, Energetic, Sleepy, D...  ...   0  NaN  NaN  NaN   \n",
       "4   Happy, Euphoric, Uplifted, Relaxed, Creative, ...  ...   0  NaN  NaN  NaN   \n",
       "5   Uplifted, Relaxed, Happy, Euphoric, Dry Mouth,...  ...   0  NaN  NaN  NaN   \n",
       "\n",
       "    cbc  cbcv  cbv  cbe  cbt  cbl  \n",
       "id                                 \n",
       "1   0.0   0.0  0.0  0.0  0.0  0.0  \n",
       "2   NaN   NaN  NaN  NaN  NaN  NaN  \n",
       "3   NaN   NaN  NaN  NaN  NaN  NaN  \n",
       "4   NaN   NaN  NaN  NaN  NaN  NaN  \n",
       "5   NaN   NaN  NaN  NaN  NaN  NaN  \n",
       "\n",
       "[5 rows x 30 columns]"
      ],
      "text/html": "<div>\n<style scoped>\n    .dataframe tbody tr th:only-of-type {\n        vertical-align: middle;\n    }\n\n    .dataframe tbody tr th {\n        vertical-align: top;\n    }\n\n    .dataframe thead th {\n        text-align: right;\n    }\n</style>\n<table border=\"1\" class=\"dataframe\">\n  <thead>\n    <tr style=\"text-align: right;\">\n      <th></th>\n      <th>status</th>\n      <th>sort</th>\n      <th>name</th>\n      <th>slug</th>\n      <th>image</th>\n      <th>description</th>\n      <th>type</th>\n      <th>crosses</th>\n      <th>breeder</th>\n      <th>effects</th>\n      <th>...</th>\n      <th>cbn</th>\n      <th>cbg</th>\n      <th>cbgm</th>\n      <th>cbgv</th>\n      <th>cbc</th>\n      <th>cbcv</th>\n      <th>cbv</th>\n      <th>cbe</th>\n      <th>cbt</th>\n      <th>cbl</th>\n    </tr>\n    <tr>\n      <th>id</th>\n      <th></th>\n      <th></th>\n      <th></th>\n      <th></th>\n      <th></th>\n      <th></th>\n      <th></th>\n      <th></th>\n      <th></th>\n      <th></th>\n      <th></th>\n      <th></th>\n      <th></th>\n      <th></th>\n      <th></th>\n      <th></th>\n      <th></th>\n      <th></th>\n      <th></th>\n      <th></th>\n      <th></th>\n    </tr>\n  </thead>\n  <tbody>\n    <tr>\n      <th>1</th>\n      <td>1</td>\n      <td>0</td>\n      <td>100 OG</td>\n      <td>NaN</td>\n      <td>NaN</td>\n      <td>&lt;p&gt;This strain is named after it's high price ...</td>\n      <td>Hybrid</td>\n      <td>NaN</td>\n      <td>Old School Breeder's Association</td>\n      <td>Focused</td>\n      <td>...</td>\n      <td>10</td>\n      <td>0.0</td>\n      <td>0.0</td>\n      <td>0.0</td>\n      <td>0.0</td>\n      <td>0.0</td>\n      <td>0.0</td>\n      <td>0.0</td>\n      <td>0.0</td>\n      <td>0.0</td>\n    </tr>\n    <tr>\n      <th>2</th>\n      <td>1</td>\n      <td>0</td>\n      <td>707 Headband</td>\n      <td>NaN</td>\n      <td>NaN</td>\n      <td>NaN</td>\n      <td>Hybrid</td>\n      <td>378,272</td>\n      <td>Unknown Breeder</td>\n      <td>NaN</td>\n      <td>...</td>\n      <td>0</td>\n      <td>NaN</td>\n      <td>NaN</td>\n      <td>NaN</td>\n      <td>NaN</td>\n      <td>NaN</td>\n      <td>NaN</td>\n      <td>NaN</td>\n      <td>NaN</td>\n      <td>NaN</td>\n    </tr>\n    <tr>\n      <th>3</th>\n      <td>1</td>\n      <td>0</td>\n      <td>A-10</td>\n      <td>NaN</td>\n      <td>NaN</td>\n      <td>NaN</td>\n      <td>Indica</td>\n      <td>0</td>\n      <td>NaN</td>\n      <td>Relaxed, Happy, Uplifted, Energetic, Sleepy, D...</td>\n      <td>...</td>\n      <td>0</td>\n      <td>NaN</td>\n      <td>NaN</td>\n      <td>NaN</td>\n      <td>NaN</td>\n      <td>NaN</td>\n      <td>NaN</td>\n      <td>NaN</td>\n      <td>NaN</td>\n      <td>NaN</td>\n    </tr>\n    <tr>\n      <th>4</th>\n      <td>1</td>\n      <td>0</td>\n      <td>Acapulco Gold</td>\n      <td>NaN</td>\n      <td>NaN</td>\n      <td>NaN</td>\n      <td>Sativa</td>\n      <td>0</td>\n      <td>NaN</td>\n      <td>Happy, Euphoric, Uplifted, Relaxed, Creative, ...</td>\n      <td>...</td>\n      <td>0</td>\n      <td>NaN</td>\n      <td>NaN</td>\n      <td>NaN</td>\n      <td>NaN</td>\n      <td>NaN</td>\n      <td>NaN</td>\n      <td>NaN</td>\n      <td>NaN</td>\n      <td>NaN</td>\n    </tr>\n    <tr>\n      <th>5</th>\n      <td>1</td>\n      <td>0</td>\n      <td>Afghani Bullrider</td>\n      <td>NaN</td>\n      <td>NaN</td>\n      <td>NaN</td>\n      <td>Hybrid</td>\n      <td>0</td>\n      <td>Unknown Breeder</td>\n      <td>Uplifted, Relaxed, Happy, Euphoric, Dry Mouth,...</td>\n      <td>...</td>\n      <td>0</td>\n      <td>NaN</td>\n      <td>NaN</td>\n      <td>NaN</td>\n      <td>NaN</td>\n      <td>NaN</td>\n      <td>NaN</td>\n      <td>NaN</td>\n      <td>NaN</td>\n      <td>NaN</td>\n    </tr>\n  </tbody>\n</table>\n<p>5 rows × 30 columns</p>\n</div>"
     },
     "metadata": {},
     "execution_count": 7
    }
   ],
   "source": [
    "df.head()"
   ]
  },
  {
   "cell_type": "code",
   "execution_count": 8,
   "metadata": {
    "colab": {
     "base_uri": "https://localhost:8080/"
    },
    "id": "Ki0UB3uwk13Q",
    "outputId": "f9a7d302-7339-4daa-d1ab-690b8ab0fa5f"
   },
   "outputs": [
    {
     "output_type": "stream",
     "name": "stdout",
     "text": [
      "<class 'pandas.core.frame.DataFrame'>\nInt64Index: 9524 entries, 1 to 9524\nData columns (total 30 columns):\n #   Column       Non-Null Count  Dtype  \n---  ------       --------------  -----  \n 0   status       9524 non-null   int64  \n 1   sort         9524 non-null   int64  \n 2   name         9523 non-null   object \n 3   slug         0 non-null      float64\n 4   image        0 non-null      float64\n 5   description  1 non-null      object \n 6   type         9500 non-null   object \n 7   crosses      564 non-null    object \n 8   breeder      8979 non-null   object \n 9   effects      1015 non-null   object \n 10  ailment      971 non-null    object \n 11  flavor       971 non-null    object \n 12  location     621 non-null    object \n 13  terpenes     1 non-null      object \n 14  thc          9524 non-null   int64  \n 15  thca         8635 non-null   float64\n 16  thcv         8635 non-null   float64\n 17  cbd          9524 non-null   int64  \n 18  cbda         8635 non-null   float64\n 19  cbdv         8635 non-null   float64\n 20  cbn          9524 non-null   int64  \n 21  cbg          8635 non-null   float64\n 22  cbgm         8635 non-null   float64\n 23  cbgv         8635 non-null   float64\n 24  cbc          8635 non-null   float64\n 25  cbcv         8635 non-null   float64\n 26  cbv          8635 non-null   float64\n 27  cbe          8635 non-null   float64\n 28  cbt          8635 non-null   float64\n 29  cbl          8635 non-null   float64\ndtypes: float64(15), int64(5), object(10)\nmemory usage: 2.3+ MB\n"
     ]
    }
   ],
   "source": [
    "df.info()"
   ]
  },
  {
   "cell_type": "code",
   "execution_count": 9,
   "metadata": {
    "id": "SvCUlDeAk1_w"
   },
   "outputs": [],
   "source": [
    "df = df[['status', 'name', 'type', 'breeder','effects','ailment','flavor','thc','thca','cbd','cbda', 'location']]"
   ]
  },
  {
   "cell_type": "code",
   "execution_count": 10,
   "metadata": {
    "colab": {
     "base_uri": "https://localhost:8080/",
     "height": 228
    },
    "id": "RhfAGKgfk2Co",
    "outputId": "3e171049-96ab-46de-e0e6-da310171e23d"
   },
   "outputs": [
    {
     "output_type": "execute_result",
     "data": {
      "text/plain": [
       "    status               name    type                           breeder  \\\n",
       "id                                                                        \n",
       "1        1             100 OG  Hybrid  Old School Breeder's Association   \n",
       "2        1       707 Headband  Hybrid                   Unknown Breeder   \n",
       "3        1               A-10  Indica                               NaN   \n",
       "4        1      Acapulco Gold  Sativa                               NaN   \n",
       "5        1  Afghani Bullrider  Hybrid                   Unknown Breeder   \n",
       "\n",
       "                                              effects  \\\n",
       "id                                                      \n",
       "1                                             Focused   \n",
       "2                                                 NaN   \n",
       "3   Relaxed, Happy, Uplifted, Energetic, Sleepy, D...   \n",
       "4   Happy, Euphoric, Uplifted, Relaxed, Creative, ...   \n",
       "5   Uplifted, Relaxed, Happy, Euphoric, Dry Mouth,...   \n",
       "\n",
       "                                              ailment               flavor  \\\n",
       "id                                                                           \n",
       "1                                          Depression               Citrus   \n",
       "2                                                 NaN                  NaN   \n",
       "3   Stress, Insomnia, Pain, Muscle Spasms, Depression        Citrus, Sweet   \n",
       "4          Depression, Stress, Pain, Lack of Appetite       Earthy, Citrus   \n",
       "5                  Stress, Depression, Insomnia, Pain  Sweet, Pine, Earthy   \n",
       "\n",
       "    thc  thca  cbd  cbda location  \n",
       "id                                 \n",
       "1   127   0.0   16   0.0      NaN  \n",
       "2   127   NaN    0   NaN      NaN  \n",
       "3     0   NaN    0   NaN      NaN  \n",
       "4     0   NaN    0   NaN      NaN  \n",
       "5   127   NaN    0   NaN      NaN  "
      ],
      "text/html": "<div>\n<style scoped>\n    .dataframe tbody tr th:only-of-type {\n        vertical-align: middle;\n    }\n\n    .dataframe tbody tr th {\n        vertical-align: top;\n    }\n\n    .dataframe thead th {\n        text-align: right;\n    }\n</style>\n<table border=\"1\" class=\"dataframe\">\n  <thead>\n    <tr style=\"text-align: right;\">\n      <th></th>\n      <th>status</th>\n      <th>name</th>\n      <th>type</th>\n      <th>breeder</th>\n      <th>effects</th>\n      <th>ailment</th>\n      <th>flavor</th>\n      <th>thc</th>\n      <th>thca</th>\n      <th>cbd</th>\n      <th>cbda</th>\n      <th>location</th>\n    </tr>\n    <tr>\n      <th>id</th>\n      <th></th>\n      <th></th>\n      <th></th>\n      <th></th>\n      <th></th>\n      <th></th>\n      <th></th>\n      <th></th>\n      <th></th>\n      <th></th>\n      <th></th>\n      <th></th>\n    </tr>\n  </thead>\n  <tbody>\n    <tr>\n      <th>1</th>\n      <td>1</td>\n      <td>100 OG</td>\n      <td>Hybrid</td>\n      <td>Old School Breeder's Association</td>\n      <td>Focused</td>\n      <td>Depression</td>\n      <td>Citrus</td>\n      <td>127</td>\n      <td>0.0</td>\n      <td>16</td>\n      <td>0.0</td>\n      <td>NaN</td>\n    </tr>\n    <tr>\n      <th>2</th>\n      <td>1</td>\n      <td>707 Headband</td>\n      <td>Hybrid</td>\n      <td>Unknown Breeder</td>\n      <td>NaN</td>\n      <td>NaN</td>\n      <td>NaN</td>\n      <td>127</td>\n      <td>NaN</td>\n      <td>0</td>\n      <td>NaN</td>\n      <td>NaN</td>\n    </tr>\n    <tr>\n      <th>3</th>\n      <td>1</td>\n      <td>A-10</td>\n      <td>Indica</td>\n      <td>NaN</td>\n      <td>Relaxed, Happy, Uplifted, Energetic, Sleepy, D...</td>\n      <td>Stress, Insomnia, Pain, Muscle Spasms, Depression</td>\n      <td>Citrus, Sweet</td>\n      <td>0</td>\n      <td>NaN</td>\n      <td>0</td>\n      <td>NaN</td>\n      <td>NaN</td>\n    </tr>\n    <tr>\n      <th>4</th>\n      <td>1</td>\n      <td>Acapulco Gold</td>\n      <td>Sativa</td>\n      <td>NaN</td>\n      <td>Happy, Euphoric, Uplifted, Relaxed, Creative, ...</td>\n      <td>Depression, Stress, Pain, Lack of Appetite</td>\n      <td>Earthy, Citrus</td>\n      <td>0</td>\n      <td>NaN</td>\n      <td>0</td>\n      <td>NaN</td>\n      <td>NaN</td>\n    </tr>\n    <tr>\n      <th>5</th>\n      <td>1</td>\n      <td>Afghani Bullrider</td>\n      <td>Hybrid</td>\n      <td>Unknown Breeder</td>\n      <td>Uplifted, Relaxed, Happy, Euphoric, Dry Mouth,...</td>\n      <td>Stress, Depression, Insomnia, Pain</td>\n      <td>Sweet, Pine, Earthy</td>\n      <td>127</td>\n      <td>NaN</td>\n      <td>0</td>\n      <td>NaN</td>\n      <td>NaN</td>\n    </tr>\n  </tbody>\n</table>\n</div>"
     },
     "metadata": {},
     "execution_count": 10
    }
   ],
   "source": [
    "df.head()"
   ]
  },
  {
   "cell_type": "code",
   "execution_count": 11,
   "metadata": {
    "id": "o2pkL4Gvk2Fa"
   },
   "outputs": [],
   "source": [
    "df = df[df['effects'].notna()]\n",
    "df = df[df['ailment'].notna()]"
   ]
  },
  {
   "cell_type": "code",
   "execution_count": 12,
   "metadata": {
    "colab": {
     "base_uri": "https://localhost:8080/"
    },
    "id": "6LLRN5JunjgX",
    "outputId": "c2fc49fb-867f-4295-957f-1b95ce713243"
   },
   "outputs": [
    {
     "output_type": "execute_result",
     "data": {
      "text/plain": [
       "(971, 12)"
      ]
     },
     "metadata": {},
     "execution_count": 12
    }
   ],
   "source": [
    "df.shape"
   ]
  },
  {
   "cell_type": "code",
   "execution_count": 13,
   "metadata": {
    "colab": {
     "base_uri": "https://localhost:8080/"
    },
    "id": "SWcuUWlWbq78",
    "outputId": "4aa06a76-ac6d-45e1-a150-fd3d95e48286"
   },
   "outputs": [
    {
     "output_type": "stream",
     "name": "stdout",
     "text": [
      "<class 'pandas.core.frame.DataFrame'>\nInt64Index: 971 entries, 1 to 2178\nData columns (total 12 columns):\n #   Column    Non-Null Count  Dtype  \n---  ------    --------------  -----  \n 0   status    971 non-null    int64  \n 1   name      971 non-null    object \n 2   type      971 non-null    object \n 3   breeder   556 non-null    object \n 4   effects   971 non-null    object \n 5   ailment   971 non-null    object \n 6   flavor    942 non-null    object \n 7   thc       971 non-null    int64  \n 8   thca      726 non-null    float64\n 9   cbd       971 non-null    int64  \n 10  cbda      726 non-null    float64\n 11  location  77 non-null     object \ndtypes: float64(2), int64(3), object(7)\nmemory usage: 98.6+ KB\n"
     ]
    }
   ],
   "source": [
    "df.info()"
   ]
  },
  {
   "cell_type": "code",
   "execution_count": 14,
   "metadata": {
    "colab": {
     "base_uri": "https://localhost:8080/",
     "height": 228
    },
    "id": "0VbjaJgen6MU",
    "outputId": "fc5c83e6-9d50-4fee-95b3-156c1e4c6118"
   },
   "outputs": [
    {
     "output_type": "execute_result",
     "data": {
      "text/plain": [
       "    status               name    type                           breeder  \\\n",
       "id                                                                        \n",
       "1        1             100 OG  Hybrid  Old School Breeder's Association   \n",
       "3        1               A-10  Indica                               NaN   \n",
       "4        1      Acapulco Gold  Sativa                               NaN   \n",
       "5        1  Afghani Bullrider  Hybrid                   Unknown Breeder   \n",
       "6        1     Afghan Big Bud  Indica                               NaN   \n",
       "\n",
       "                                              effects  \\\n",
       "id                                                      \n",
       "1                                             Focused   \n",
       "3   Relaxed, Happy, Uplifted, Energetic, Sleepy, D...   \n",
       "4   Happy, Euphoric, Uplifted, Relaxed, Creative, ...   \n",
       "5   Uplifted, Relaxed, Happy, Euphoric, Dry Mouth,...   \n",
       "6   Euphoric, Happy, Talkative, Relaxed, Sleepy, D...   \n",
       "\n",
       "                                              ailment               flavor  \\\n",
       "id                                                                           \n",
       "1                                          Depression               Citrus   \n",
       "3   Stress, Insomnia, Pain, Muscle Spasms, Depression        Citrus, Sweet   \n",
       "4          Depression, Stress, Pain, Lack of Appetite       Earthy, Citrus   \n",
       "5                  Stress, Depression, Insomnia, Pain  Sweet, Pine, Earthy   \n",
       "6          Stress, Pain, Nausea, Insomnia, Depression      Lemon, Lavender   \n",
       "\n",
       "    thc  thca  cbd  cbda location  \n",
       "id                                 \n",
       "1   127   0.0   16   0.0      NaN  \n",
       "3     0   NaN    0   NaN      NaN  \n",
       "4     0   NaN    0   NaN      NaN  \n",
       "5   127   NaN    0   NaN      NaN  \n",
       "6     0   NaN    0   NaN      NaN  "
      ],
      "text/html": "<div>\n<style scoped>\n    .dataframe tbody tr th:only-of-type {\n        vertical-align: middle;\n    }\n\n    .dataframe tbody tr th {\n        vertical-align: top;\n    }\n\n    .dataframe thead th {\n        text-align: right;\n    }\n</style>\n<table border=\"1\" class=\"dataframe\">\n  <thead>\n    <tr style=\"text-align: right;\">\n      <th></th>\n      <th>status</th>\n      <th>name</th>\n      <th>type</th>\n      <th>breeder</th>\n      <th>effects</th>\n      <th>ailment</th>\n      <th>flavor</th>\n      <th>thc</th>\n      <th>thca</th>\n      <th>cbd</th>\n      <th>cbda</th>\n      <th>location</th>\n    </tr>\n    <tr>\n      <th>id</th>\n      <th></th>\n      <th></th>\n      <th></th>\n      <th></th>\n      <th></th>\n      <th></th>\n      <th></th>\n      <th></th>\n      <th></th>\n      <th></th>\n      <th></th>\n      <th></th>\n    </tr>\n  </thead>\n  <tbody>\n    <tr>\n      <th>1</th>\n      <td>1</td>\n      <td>100 OG</td>\n      <td>Hybrid</td>\n      <td>Old School Breeder's Association</td>\n      <td>Focused</td>\n      <td>Depression</td>\n      <td>Citrus</td>\n      <td>127</td>\n      <td>0.0</td>\n      <td>16</td>\n      <td>0.0</td>\n      <td>NaN</td>\n    </tr>\n    <tr>\n      <th>3</th>\n      <td>1</td>\n      <td>A-10</td>\n      <td>Indica</td>\n      <td>NaN</td>\n      <td>Relaxed, Happy, Uplifted, Energetic, Sleepy, D...</td>\n      <td>Stress, Insomnia, Pain, Muscle Spasms, Depression</td>\n      <td>Citrus, Sweet</td>\n      <td>0</td>\n      <td>NaN</td>\n      <td>0</td>\n      <td>NaN</td>\n      <td>NaN</td>\n    </tr>\n    <tr>\n      <th>4</th>\n      <td>1</td>\n      <td>Acapulco Gold</td>\n      <td>Sativa</td>\n      <td>NaN</td>\n      <td>Happy, Euphoric, Uplifted, Relaxed, Creative, ...</td>\n      <td>Depression, Stress, Pain, Lack of Appetite</td>\n      <td>Earthy, Citrus</td>\n      <td>0</td>\n      <td>NaN</td>\n      <td>0</td>\n      <td>NaN</td>\n      <td>NaN</td>\n    </tr>\n    <tr>\n      <th>5</th>\n      <td>1</td>\n      <td>Afghani Bullrider</td>\n      <td>Hybrid</td>\n      <td>Unknown Breeder</td>\n      <td>Uplifted, Relaxed, Happy, Euphoric, Dry Mouth,...</td>\n      <td>Stress, Depression, Insomnia, Pain</td>\n      <td>Sweet, Pine, Earthy</td>\n      <td>127</td>\n      <td>NaN</td>\n      <td>0</td>\n      <td>NaN</td>\n      <td>NaN</td>\n    </tr>\n    <tr>\n      <th>6</th>\n      <td>1</td>\n      <td>Afghan Big Bud</td>\n      <td>Indica</td>\n      <td>NaN</td>\n      <td>Euphoric, Happy, Talkative, Relaxed, Sleepy, D...</td>\n      <td>Stress, Pain, Nausea, Insomnia, Depression</td>\n      <td>Lemon, Lavender</td>\n      <td>0</td>\n      <td>NaN</td>\n      <td>0</td>\n      <td>NaN</td>\n      <td>NaN</td>\n    </tr>\n  </tbody>\n</table>\n</div>"
     },
     "metadata": {},
     "execution_count": 14
    }
   ],
   "source": [
    "df.head()"
   ]
  },
  {
   "cell_type": "code",
   "execution_count": 15,
   "metadata": {
    "id": "ezoJJDebn9DG"
   },
   "outputs": [],
   "source": [
    "df['text'] = df['effects'] + ' ' + df['ailment']\n",
    "df['text'] = df['text'] + ' ' + df['type']"
   ]
  },
  {
   "cell_type": "code",
   "execution_count": 16,
   "metadata": {
    "id": "SED6m4q0CAqC"
   },
   "outputs": [],
   "source": [
    "import regex as re\n",
    "df['text'] = df['text'].apply(lambda text: re.sub('[^a-zA-Z 0-9]', '', text))\n",
    "df['text'] = df['text'].apply(lambda text: text.lower())"
   ]
  },
  {
   "cell_type": "code",
   "execution_count": 17,
   "metadata": {
    "colab": {
     "base_uri": "https://localhost:8080/",
     "height": 315
    },
    "id": "051QZxoBobT1",
    "outputId": "32219572-fda9-4acf-cd47-9170d01b726f"
   },
   "outputs": [
    {
     "output_type": "execute_result",
     "data": {
      "text/plain": [
       "    status               name    type                           breeder  \\\n",
       "id                                                                        \n",
       "1        1             100 OG  Hybrid  Old School Breeder's Association   \n",
       "3        1               A-10  Indica                               NaN   \n",
       "4        1      Acapulco Gold  Sativa                               NaN   \n",
       "5        1  Afghani Bullrider  Hybrid                   Unknown Breeder   \n",
       "6        1     Afghan Big Bud  Indica                               NaN   \n",
       "\n",
       "                                              effects  \\\n",
       "id                                                      \n",
       "1                                             Focused   \n",
       "3   Relaxed, Happy, Uplifted, Energetic, Sleepy, D...   \n",
       "4   Happy, Euphoric, Uplifted, Relaxed, Creative, ...   \n",
       "5   Uplifted, Relaxed, Happy, Euphoric, Dry Mouth,...   \n",
       "6   Euphoric, Happy, Talkative, Relaxed, Sleepy, D...   \n",
       "\n",
       "                                              ailment               flavor  \\\n",
       "id                                                                           \n",
       "1                                          Depression               Citrus   \n",
       "3   Stress, Insomnia, Pain, Muscle Spasms, Depression        Citrus, Sweet   \n",
       "4          Depression, Stress, Pain, Lack of Appetite       Earthy, Citrus   \n",
       "5                  Stress, Depression, Insomnia, Pain  Sweet, Pine, Earthy   \n",
       "6          Stress, Pain, Nausea, Insomnia, Depression      Lemon, Lavender   \n",
       "\n",
       "    thc  thca  cbd  cbda location  \\\n",
       "id                                  \n",
       "1   127   0.0   16   0.0      NaN   \n",
       "3     0   NaN    0   NaN      NaN   \n",
       "4     0   NaN    0   NaN      NaN   \n",
       "5   127   NaN    0   NaN      NaN   \n",
       "6     0   NaN    0   NaN      NaN   \n",
       "\n",
       "                                                 text  \n",
       "id                                                     \n",
       "1                           focused depression hybrid  \n",
       "3   relaxed happy uplifted energetic sleepy dry mo...  \n",
       "4   happy euphoric uplifted relaxed creative dry m...  \n",
       "5   uplifted relaxed happy euphoric dry mouth para...  \n",
       "6   euphoric happy talkative relaxed sleepy dry mo...  "
      ],
      "text/html": "<div>\n<style scoped>\n    .dataframe tbody tr th:only-of-type {\n        vertical-align: middle;\n    }\n\n    .dataframe tbody tr th {\n        vertical-align: top;\n    }\n\n    .dataframe thead th {\n        text-align: right;\n    }\n</style>\n<table border=\"1\" class=\"dataframe\">\n  <thead>\n    <tr style=\"text-align: right;\">\n      <th></th>\n      <th>status</th>\n      <th>name</th>\n      <th>type</th>\n      <th>breeder</th>\n      <th>effects</th>\n      <th>ailment</th>\n      <th>flavor</th>\n      <th>thc</th>\n      <th>thca</th>\n      <th>cbd</th>\n      <th>cbda</th>\n      <th>location</th>\n      <th>text</th>\n    </tr>\n    <tr>\n      <th>id</th>\n      <th></th>\n      <th></th>\n      <th></th>\n      <th></th>\n      <th></th>\n      <th></th>\n      <th></th>\n      <th></th>\n      <th></th>\n      <th></th>\n      <th></th>\n      <th></th>\n      <th></th>\n    </tr>\n  </thead>\n  <tbody>\n    <tr>\n      <th>1</th>\n      <td>1</td>\n      <td>100 OG</td>\n      <td>Hybrid</td>\n      <td>Old School Breeder's Association</td>\n      <td>Focused</td>\n      <td>Depression</td>\n      <td>Citrus</td>\n      <td>127</td>\n      <td>0.0</td>\n      <td>16</td>\n      <td>0.0</td>\n      <td>NaN</td>\n      <td>focused depression hybrid</td>\n    </tr>\n    <tr>\n      <th>3</th>\n      <td>1</td>\n      <td>A-10</td>\n      <td>Indica</td>\n      <td>NaN</td>\n      <td>Relaxed, Happy, Uplifted, Energetic, Sleepy, D...</td>\n      <td>Stress, Insomnia, Pain, Muscle Spasms, Depression</td>\n      <td>Citrus, Sweet</td>\n      <td>0</td>\n      <td>NaN</td>\n      <td>0</td>\n      <td>NaN</td>\n      <td>NaN</td>\n      <td>relaxed happy uplifted energetic sleepy dry mo...</td>\n    </tr>\n    <tr>\n      <th>4</th>\n      <td>1</td>\n      <td>Acapulco Gold</td>\n      <td>Sativa</td>\n      <td>NaN</td>\n      <td>Happy, Euphoric, Uplifted, Relaxed, Creative, ...</td>\n      <td>Depression, Stress, Pain, Lack of Appetite</td>\n      <td>Earthy, Citrus</td>\n      <td>0</td>\n      <td>NaN</td>\n      <td>0</td>\n      <td>NaN</td>\n      <td>NaN</td>\n      <td>happy euphoric uplifted relaxed creative dry m...</td>\n    </tr>\n    <tr>\n      <th>5</th>\n      <td>1</td>\n      <td>Afghani Bullrider</td>\n      <td>Hybrid</td>\n      <td>Unknown Breeder</td>\n      <td>Uplifted, Relaxed, Happy, Euphoric, Dry Mouth,...</td>\n      <td>Stress, Depression, Insomnia, Pain</td>\n      <td>Sweet, Pine, Earthy</td>\n      <td>127</td>\n      <td>NaN</td>\n      <td>0</td>\n      <td>NaN</td>\n      <td>NaN</td>\n      <td>uplifted relaxed happy euphoric dry mouth para...</td>\n    </tr>\n    <tr>\n      <th>6</th>\n      <td>1</td>\n      <td>Afghan Big Bud</td>\n      <td>Indica</td>\n      <td>NaN</td>\n      <td>Euphoric, Happy, Talkative, Relaxed, Sleepy, D...</td>\n      <td>Stress, Pain, Nausea, Insomnia, Depression</td>\n      <td>Lemon, Lavender</td>\n      <td>0</td>\n      <td>NaN</td>\n      <td>0</td>\n      <td>NaN</td>\n      <td>NaN</td>\n      <td>euphoric happy talkative relaxed sleepy dry mo...</td>\n    </tr>\n  </tbody>\n</table>\n</div>"
     },
     "metadata": {},
     "execution_count": 17
    }
   ],
   "source": [
    "df.head()"
   ]
  },
  {
   "cell_type": "code",
   "execution_count": 18,
   "metadata": {
    "id": "QL7s_3Qkpoz9"
   },
   "outputs": [],
   "source": [
    "def tokenize(text):\n",
    "  text = re.sub('[^a-zA-Z 0-9]', '', text)\n",
    "  tokens = text.split()\n",
    "  \n",
    "  return tokens"
   ]
  },
  {
   "cell_type": "code",
   "execution_count": 19,
   "metadata": {
    "colab": {
     "base_uri": "https://localhost:8080/"
    },
    "id": "xLbYNooAqCcE",
    "outputId": "b13bc245-7daf-4a6f-9fca-0aa6dd3a1203"
   },
   "outputs": [
    {
     "output_type": "execute_result",
     "data": {
      "text/plain": [
       "['happy',\n",
       " 'euphoric',\n",
       " 'uplifted',\n",
       " 'relaxed',\n",
       " 'creative',\n",
       " 'dry',\n",
       " 'mouth',\n",
       " 'paranoid',\n",
       " 'anxious',\n",
       " 'depression',\n",
       " 'stress',\n",
       " 'pain',\n",
       " 'lack',\n",
       " 'of',\n",
       " 'appetite',\n",
       " 'sativa']"
      ]
     },
     "metadata": {},
     "execution_count": 19
    }
   ],
   "source": [
    "tokenize(df['text'][4])"
   ]
  },
  {
   "cell_type": "code",
   "execution_count": 20,
   "metadata": {
    "id": "v5WxNpB7qFE-"
   },
   "outputs": [],
   "source": [
    "#df['tokens'] = df['text'].apply(tokenize)"
   ]
  },
  {
   "cell_type": "code",
   "execution_count": 21,
   "metadata": {
    "colab": {
     "base_uri": "https://localhost:8080/",
     "height": 315
    },
    "id": "ye-OZM3kqnaY",
    "outputId": "2533674c-88a3-4045-edea-0be1c35d5b87"
   },
   "outputs": [
    {
     "output_type": "execute_result",
     "data": {
      "text/plain": [
       "    status               name    type                           breeder  \\\n",
       "id                                                                        \n",
       "1        1             100 OG  Hybrid  Old School Breeder's Association   \n",
       "3        1               A-10  Indica                               NaN   \n",
       "4        1      Acapulco Gold  Sativa                               NaN   \n",
       "5        1  Afghani Bullrider  Hybrid                   Unknown Breeder   \n",
       "6        1     Afghan Big Bud  Indica                               NaN   \n",
       "\n",
       "                                              effects  \\\n",
       "id                                                      \n",
       "1                                             Focused   \n",
       "3   Relaxed, Happy, Uplifted, Energetic, Sleepy, D...   \n",
       "4   Happy, Euphoric, Uplifted, Relaxed, Creative, ...   \n",
       "5   Uplifted, Relaxed, Happy, Euphoric, Dry Mouth,...   \n",
       "6   Euphoric, Happy, Talkative, Relaxed, Sleepy, D...   \n",
       "\n",
       "                                              ailment               flavor  \\\n",
       "id                                                                           \n",
       "1                                          Depression               Citrus   \n",
       "3   Stress, Insomnia, Pain, Muscle Spasms, Depression        Citrus, Sweet   \n",
       "4          Depression, Stress, Pain, Lack of Appetite       Earthy, Citrus   \n",
       "5                  Stress, Depression, Insomnia, Pain  Sweet, Pine, Earthy   \n",
       "6          Stress, Pain, Nausea, Insomnia, Depression      Lemon, Lavender   \n",
       "\n",
       "    thc  thca  cbd  cbda location  \\\n",
       "id                                  \n",
       "1   127   0.0   16   0.0      NaN   \n",
       "3     0   NaN    0   NaN      NaN   \n",
       "4     0   NaN    0   NaN      NaN   \n",
       "5   127   NaN    0   NaN      NaN   \n",
       "6     0   NaN    0   NaN      NaN   \n",
       "\n",
       "                                                 text  \n",
       "id                                                     \n",
       "1                           focused depression hybrid  \n",
       "3   relaxed happy uplifted energetic sleepy dry mo...  \n",
       "4   happy euphoric uplifted relaxed creative dry m...  \n",
       "5   uplifted relaxed happy euphoric dry mouth para...  \n",
       "6   euphoric happy talkative relaxed sleepy dry mo...  "
      ],
      "text/html": "<div>\n<style scoped>\n    .dataframe tbody tr th:only-of-type {\n        vertical-align: middle;\n    }\n\n    .dataframe tbody tr th {\n        vertical-align: top;\n    }\n\n    .dataframe thead th {\n        text-align: right;\n    }\n</style>\n<table border=\"1\" class=\"dataframe\">\n  <thead>\n    <tr style=\"text-align: right;\">\n      <th></th>\n      <th>status</th>\n      <th>name</th>\n      <th>type</th>\n      <th>breeder</th>\n      <th>effects</th>\n      <th>ailment</th>\n      <th>flavor</th>\n      <th>thc</th>\n      <th>thca</th>\n      <th>cbd</th>\n      <th>cbda</th>\n      <th>location</th>\n      <th>text</th>\n    </tr>\n    <tr>\n      <th>id</th>\n      <th></th>\n      <th></th>\n      <th></th>\n      <th></th>\n      <th></th>\n      <th></th>\n      <th></th>\n      <th></th>\n      <th></th>\n      <th></th>\n      <th></th>\n      <th></th>\n      <th></th>\n    </tr>\n  </thead>\n  <tbody>\n    <tr>\n      <th>1</th>\n      <td>1</td>\n      <td>100 OG</td>\n      <td>Hybrid</td>\n      <td>Old School Breeder's Association</td>\n      <td>Focused</td>\n      <td>Depression</td>\n      <td>Citrus</td>\n      <td>127</td>\n      <td>0.0</td>\n      <td>16</td>\n      <td>0.0</td>\n      <td>NaN</td>\n      <td>focused depression hybrid</td>\n    </tr>\n    <tr>\n      <th>3</th>\n      <td>1</td>\n      <td>A-10</td>\n      <td>Indica</td>\n      <td>NaN</td>\n      <td>Relaxed, Happy, Uplifted, Energetic, Sleepy, D...</td>\n      <td>Stress, Insomnia, Pain, Muscle Spasms, Depression</td>\n      <td>Citrus, Sweet</td>\n      <td>0</td>\n      <td>NaN</td>\n      <td>0</td>\n      <td>NaN</td>\n      <td>NaN</td>\n      <td>relaxed happy uplifted energetic sleepy dry mo...</td>\n    </tr>\n    <tr>\n      <th>4</th>\n      <td>1</td>\n      <td>Acapulco Gold</td>\n      <td>Sativa</td>\n      <td>NaN</td>\n      <td>Happy, Euphoric, Uplifted, Relaxed, Creative, ...</td>\n      <td>Depression, Stress, Pain, Lack of Appetite</td>\n      <td>Earthy, Citrus</td>\n      <td>0</td>\n      <td>NaN</td>\n      <td>0</td>\n      <td>NaN</td>\n      <td>NaN</td>\n      <td>happy euphoric uplifted relaxed creative dry m...</td>\n    </tr>\n    <tr>\n      <th>5</th>\n      <td>1</td>\n      <td>Afghani Bullrider</td>\n      <td>Hybrid</td>\n      <td>Unknown Breeder</td>\n      <td>Uplifted, Relaxed, Happy, Euphoric, Dry Mouth,...</td>\n      <td>Stress, Depression, Insomnia, Pain</td>\n      <td>Sweet, Pine, Earthy</td>\n      <td>127</td>\n      <td>NaN</td>\n      <td>0</td>\n      <td>NaN</td>\n      <td>NaN</td>\n      <td>uplifted relaxed happy euphoric dry mouth para...</td>\n    </tr>\n    <tr>\n      <th>6</th>\n      <td>1</td>\n      <td>Afghan Big Bud</td>\n      <td>Indica</td>\n      <td>NaN</td>\n      <td>Euphoric, Happy, Talkative, Relaxed, Sleepy, D...</td>\n      <td>Stress, Pain, Nausea, Insomnia, Depression</td>\n      <td>Lemon, Lavender</td>\n      <td>0</td>\n      <td>NaN</td>\n      <td>0</td>\n      <td>NaN</td>\n      <td>NaN</td>\n      <td>euphoric happy talkative relaxed sleepy dry mo...</td>\n    </tr>\n  </tbody>\n</table>\n</div>"
     },
     "metadata": {},
     "execution_count": 21
    }
   ],
   "source": [
    "df.head()"
   ]
  },
  {
   "cell_type": "code",
   "execution_count": 22,
   "metadata": {
    "id": "kKkfKQMy7Y-z"
   },
   "outputs": [],
   "source": [
    "import spacy\n",
    "nlp = spacy.load('en_core_web_lg')"
   ]
  },
  {
   "cell_type": "code",
   "execution_count": 23,
   "metadata": {
    "id": "tJfZmoyuqobw"
   },
   "outputs": [],
   "source": [
    "def get_lemmas(text):\n",
    "  text = text.lower()\n",
    "  lemmas = []\n",
    "  doc = nlp(text)\n",
    "  for token in doc:\n",
    "    if ((token.is_stop == False) and (token.is_punct == False) and \n",
    "        (token.pos_ != 'PRON')):\n",
    "        lemmas.append(token.lemma_)\n",
    "  return lemmas"
   ]
  },
  {
   "cell_type": "code",
   "execution_count": 24,
   "metadata": {
    "id": "hgxPfAL_6uO0"
   },
   "outputs": [],
   "source": [
    "df['lemmas'] = df['text'].apply(get_lemmas)"
   ]
  },
  {
   "cell_type": "code",
   "execution_count": 25,
   "metadata": {
    "colab": {
     "base_uri": "https://localhost:8080/",
     "height": 315
    },
    "id": "GdW2l-UT7Lq0",
    "outputId": "5ba0f2ed-b3ce-4fe3-dc58-7387627ec73a"
   },
   "outputs": [
    {
     "output_type": "execute_result",
     "data": {
      "text/plain": [
       "    status               name    type                           breeder  \\\n",
       "id                                                                        \n",
       "1        1             100 OG  Hybrid  Old School Breeder's Association   \n",
       "3        1               A-10  Indica                               NaN   \n",
       "4        1      Acapulco Gold  Sativa                               NaN   \n",
       "5        1  Afghani Bullrider  Hybrid                   Unknown Breeder   \n",
       "6        1     Afghan Big Bud  Indica                               NaN   \n",
       "\n",
       "                                              effects  \\\n",
       "id                                                      \n",
       "1                                             Focused   \n",
       "3   Relaxed, Happy, Uplifted, Energetic, Sleepy, D...   \n",
       "4   Happy, Euphoric, Uplifted, Relaxed, Creative, ...   \n",
       "5   Uplifted, Relaxed, Happy, Euphoric, Dry Mouth,...   \n",
       "6   Euphoric, Happy, Talkative, Relaxed, Sleepy, D...   \n",
       "\n",
       "                                              ailment               flavor  \\\n",
       "id                                                                           \n",
       "1                                          Depression               Citrus   \n",
       "3   Stress, Insomnia, Pain, Muscle Spasms, Depression        Citrus, Sweet   \n",
       "4          Depression, Stress, Pain, Lack of Appetite       Earthy, Citrus   \n",
       "5                  Stress, Depression, Insomnia, Pain  Sweet, Pine, Earthy   \n",
       "6          Stress, Pain, Nausea, Insomnia, Depression      Lemon, Lavender   \n",
       "\n",
       "    thc  thca  cbd  cbda location  \\\n",
       "id                                  \n",
       "1   127   0.0   16   0.0      NaN   \n",
       "3     0   NaN    0   NaN      NaN   \n",
       "4     0   NaN    0   NaN      NaN   \n",
       "5   127   NaN    0   NaN      NaN   \n",
       "6     0   NaN    0   NaN      NaN   \n",
       "\n",
       "                                                 text  \\\n",
       "id                                                      \n",
       "1                           focused depression hybrid   \n",
       "3   relaxed happy uplifted energetic sleepy dry mo...   \n",
       "4   happy euphoric uplifted relaxed creative dry m...   \n",
       "5   uplifted relaxed happy euphoric dry mouth para...   \n",
       "6   euphoric happy talkative relaxed sleepy dry mo...   \n",
       "\n",
       "                                               lemmas  \n",
       "id                                                     \n",
       "1                         [focus, depression, hybrid]  \n",
       "3   [relax, happy, uplift, energetic, sleepy, dry,...  \n",
       "4   [happy, euphoric, uplifted, relaxed, creative,...  \n",
       "5   [uplifted, relaxed, happy, euphoric, dry, mout...  \n",
       "6   [euphoric, happy, talkative, relax, sleepy, dr...  "
      ],
      "text/html": "<div>\n<style scoped>\n    .dataframe tbody tr th:only-of-type {\n        vertical-align: middle;\n    }\n\n    .dataframe tbody tr th {\n        vertical-align: top;\n    }\n\n    .dataframe thead th {\n        text-align: right;\n    }\n</style>\n<table border=\"1\" class=\"dataframe\">\n  <thead>\n    <tr style=\"text-align: right;\">\n      <th></th>\n      <th>status</th>\n      <th>name</th>\n      <th>type</th>\n      <th>breeder</th>\n      <th>effects</th>\n      <th>ailment</th>\n      <th>flavor</th>\n      <th>thc</th>\n      <th>thca</th>\n      <th>cbd</th>\n      <th>cbda</th>\n      <th>location</th>\n      <th>text</th>\n      <th>lemmas</th>\n    </tr>\n    <tr>\n      <th>id</th>\n      <th></th>\n      <th></th>\n      <th></th>\n      <th></th>\n      <th></th>\n      <th></th>\n      <th></th>\n      <th></th>\n      <th></th>\n      <th></th>\n      <th></th>\n      <th></th>\n      <th></th>\n      <th></th>\n    </tr>\n  </thead>\n  <tbody>\n    <tr>\n      <th>1</th>\n      <td>1</td>\n      <td>100 OG</td>\n      <td>Hybrid</td>\n      <td>Old School Breeder's Association</td>\n      <td>Focused</td>\n      <td>Depression</td>\n      <td>Citrus</td>\n      <td>127</td>\n      <td>0.0</td>\n      <td>16</td>\n      <td>0.0</td>\n      <td>NaN</td>\n      <td>focused depression hybrid</td>\n      <td>[focus, depression, hybrid]</td>\n    </tr>\n    <tr>\n      <th>3</th>\n      <td>1</td>\n      <td>A-10</td>\n      <td>Indica</td>\n      <td>NaN</td>\n      <td>Relaxed, Happy, Uplifted, Energetic, Sleepy, D...</td>\n      <td>Stress, Insomnia, Pain, Muscle Spasms, Depression</td>\n      <td>Citrus, Sweet</td>\n      <td>0</td>\n      <td>NaN</td>\n      <td>0</td>\n      <td>NaN</td>\n      <td>NaN</td>\n      <td>relaxed happy uplifted energetic sleepy dry mo...</td>\n      <td>[relax, happy, uplift, energetic, sleepy, dry,...</td>\n    </tr>\n    <tr>\n      <th>4</th>\n      <td>1</td>\n      <td>Acapulco Gold</td>\n      <td>Sativa</td>\n      <td>NaN</td>\n      <td>Happy, Euphoric, Uplifted, Relaxed, Creative, ...</td>\n      <td>Depression, Stress, Pain, Lack of Appetite</td>\n      <td>Earthy, Citrus</td>\n      <td>0</td>\n      <td>NaN</td>\n      <td>0</td>\n      <td>NaN</td>\n      <td>NaN</td>\n      <td>happy euphoric uplifted relaxed creative dry m...</td>\n      <td>[happy, euphoric, uplifted, relaxed, creative,...</td>\n    </tr>\n    <tr>\n      <th>5</th>\n      <td>1</td>\n      <td>Afghani Bullrider</td>\n      <td>Hybrid</td>\n      <td>Unknown Breeder</td>\n      <td>Uplifted, Relaxed, Happy, Euphoric, Dry Mouth,...</td>\n      <td>Stress, Depression, Insomnia, Pain</td>\n      <td>Sweet, Pine, Earthy</td>\n      <td>127</td>\n      <td>NaN</td>\n      <td>0</td>\n      <td>NaN</td>\n      <td>NaN</td>\n      <td>uplifted relaxed happy euphoric dry mouth para...</td>\n      <td>[uplifted, relaxed, happy, euphoric, dry, mout...</td>\n    </tr>\n    <tr>\n      <th>6</th>\n      <td>1</td>\n      <td>Afghan Big Bud</td>\n      <td>Indica</td>\n      <td>NaN</td>\n      <td>Euphoric, Happy, Talkative, Relaxed, Sleepy, D...</td>\n      <td>Stress, Pain, Nausea, Insomnia, Depression</td>\n      <td>Lemon, Lavender</td>\n      <td>0</td>\n      <td>NaN</td>\n      <td>0</td>\n      <td>NaN</td>\n      <td>NaN</td>\n      <td>euphoric happy talkative relaxed sleepy dry mo...</td>\n      <td>[euphoric, happy, talkative, relax, sleepy, dr...</td>\n    </tr>\n  </tbody>\n</table>\n</div>"
     },
     "metadata": {},
     "execution_count": 25
    }
   ],
   "source": [
    "df.head()"
   ]
  },
  {
   "cell_type": "code",
   "execution_count": 26,
   "metadata": {
    "id": "4-KopcWg8ihM"
   },
   "outputs": [],
   "source": [
    "from sklearn.feature_extraction.text import TfidfVectorizer\n",
    "from sklearn.neighbors import NearestNeighbors\n",
    "import spacy"
   ]
  },
  {
   "cell_type": "code",
   "execution_count": 27,
   "metadata": {
    "colab": {
     "base_uri": "https://localhost:8080/",
     "height": 218
    },
    "id": "PP7swXVk9zry",
    "outputId": "cabc6dbf-2c55-415e-ca1a-f4863014e01e"
   },
   "outputs": [
    {
     "output_type": "execute_result",
     "data": {
      "text/plain": [
       "    anxious  appetite  creative  depression       dry  energetic  euphoric  \\\n",
       "0  0.000000   0.00000  0.000000    0.377584  0.000000   0.000000  0.000000   \n",
       "1  0.000000   0.00000  0.000000    0.183524  0.174528   0.344507  0.000000   \n",
       "2  0.291644   0.31422  0.350879    0.192134  0.182716   0.000000  0.202804   \n",
       "3  0.000000   0.00000  0.000000    0.262360  0.249501   0.000000  0.276930   \n",
       "4  0.000000   0.00000  0.000000    0.193382  0.183903   0.000000  0.204121   \n",
       "\n",
       "    focused     happy  horny  ...  paranoid   relaxed   sativa  seizures  \\\n",
       "0  0.779398  0.000000    0.0  ...  0.000000  0.000000  0.00000       0.0   \n",
       "1  0.000000  0.172720    0.0  ...  0.251290  0.190240  0.00000       0.0   \n",
       "2  0.000000  0.180824    0.0  ...  0.263079  0.199165  0.43355       0.0   \n",
       "3  0.000000  0.246916    0.0  ...  0.359236  0.271962  0.00000       0.0   \n",
       "4  0.000000  0.181998    0.0  ...  0.264788  0.200459  0.00000       0.0   \n",
       "\n",
       "     sleepy    spasms    stress  talkative  tingly  uplifted  \n",
       "0  0.000000  0.000000  0.000000   0.000000     0.0  0.000000  \n",
       "1  0.263647  0.393843  0.167772   0.000000     0.0  0.218153  \n",
       "2  0.000000  0.000000  0.175643   0.000000     0.0  0.228387  \n",
       "3  0.000000  0.000000  0.239842   0.000000     0.0  0.311865  \n",
       "4  0.277810  0.000000  0.176784   0.463345     0.0  0.000000  \n",
       "\n",
       "[5 rows x 30 columns]"
      ],
      "text/html": "<div>\n<style scoped>\n    .dataframe tbody tr th:only-of-type {\n        vertical-align: middle;\n    }\n\n    .dataframe tbody tr th {\n        vertical-align: top;\n    }\n\n    .dataframe thead th {\n        text-align: right;\n    }\n</style>\n<table border=\"1\" class=\"dataframe\">\n  <thead>\n    <tr style=\"text-align: right;\">\n      <th></th>\n      <th>anxious</th>\n      <th>appetite</th>\n      <th>creative</th>\n      <th>depression</th>\n      <th>dry</th>\n      <th>energetic</th>\n      <th>euphoric</th>\n      <th>focused</th>\n      <th>happy</th>\n      <th>horny</th>\n      <th>...</th>\n      <th>paranoid</th>\n      <th>relaxed</th>\n      <th>sativa</th>\n      <th>seizures</th>\n      <th>sleepy</th>\n      <th>spasms</th>\n      <th>stress</th>\n      <th>talkative</th>\n      <th>tingly</th>\n      <th>uplifted</th>\n    </tr>\n  </thead>\n  <tbody>\n    <tr>\n      <th>0</th>\n      <td>0.000000</td>\n      <td>0.00000</td>\n      <td>0.000000</td>\n      <td>0.377584</td>\n      <td>0.000000</td>\n      <td>0.000000</td>\n      <td>0.000000</td>\n      <td>0.779398</td>\n      <td>0.000000</td>\n      <td>0.0</td>\n      <td>...</td>\n      <td>0.000000</td>\n      <td>0.000000</td>\n      <td>0.00000</td>\n      <td>0.0</td>\n      <td>0.000000</td>\n      <td>0.000000</td>\n      <td>0.000000</td>\n      <td>0.000000</td>\n      <td>0.0</td>\n      <td>0.000000</td>\n    </tr>\n    <tr>\n      <th>1</th>\n      <td>0.000000</td>\n      <td>0.00000</td>\n      <td>0.000000</td>\n      <td>0.183524</td>\n      <td>0.174528</td>\n      <td>0.344507</td>\n      <td>0.000000</td>\n      <td>0.000000</td>\n      <td>0.172720</td>\n      <td>0.0</td>\n      <td>...</td>\n      <td>0.251290</td>\n      <td>0.190240</td>\n      <td>0.00000</td>\n      <td>0.0</td>\n      <td>0.263647</td>\n      <td>0.393843</td>\n      <td>0.167772</td>\n      <td>0.000000</td>\n      <td>0.0</td>\n      <td>0.218153</td>\n    </tr>\n    <tr>\n      <th>2</th>\n      <td>0.291644</td>\n      <td>0.31422</td>\n      <td>0.350879</td>\n      <td>0.192134</td>\n      <td>0.182716</td>\n      <td>0.000000</td>\n      <td>0.202804</td>\n      <td>0.000000</td>\n      <td>0.180824</td>\n      <td>0.0</td>\n      <td>...</td>\n      <td>0.263079</td>\n      <td>0.199165</td>\n      <td>0.43355</td>\n      <td>0.0</td>\n      <td>0.000000</td>\n      <td>0.000000</td>\n      <td>0.175643</td>\n      <td>0.000000</td>\n      <td>0.0</td>\n      <td>0.228387</td>\n    </tr>\n    <tr>\n      <th>3</th>\n      <td>0.000000</td>\n      <td>0.00000</td>\n      <td>0.000000</td>\n      <td>0.262360</td>\n      <td>0.249501</td>\n      <td>0.000000</td>\n      <td>0.276930</td>\n      <td>0.000000</td>\n      <td>0.246916</td>\n      <td>0.0</td>\n      <td>...</td>\n      <td>0.359236</td>\n      <td>0.271962</td>\n      <td>0.00000</td>\n      <td>0.0</td>\n      <td>0.000000</td>\n      <td>0.000000</td>\n      <td>0.239842</td>\n      <td>0.000000</td>\n      <td>0.0</td>\n      <td>0.311865</td>\n    </tr>\n    <tr>\n      <th>4</th>\n      <td>0.000000</td>\n      <td>0.00000</td>\n      <td>0.000000</td>\n      <td>0.193382</td>\n      <td>0.183903</td>\n      <td>0.000000</td>\n      <td>0.204121</td>\n      <td>0.000000</td>\n      <td>0.181998</td>\n      <td>0.0</td>\n      <td>...</td>\n      <td>0.264788</td>\n      <td>0.200459</td>\n      <td>0.00000</td>\n      <td>0.0</td>\n      <td>0.277810</td>\n      <td>0.000000</td>\n      <td>0.176784</td>\n      <td>0.463345</td>\n      <td>0.0</td>\n      <td>0.000000</td>\n    </tr>\n  </tbody>\n</table>\n<p>5 rows × 30 columns</p>\n</div>"
     },
     "metadata": {},
     "execution_count": 27
    }
   ],
   "source": [
    "tfidf = TfidfVectorizer(stop_words='english',\n",
    "                        ngram_range=(1,1),\n",
    "                        max_df=.97,\n",
    "                        min_df=3)\n",
    "\n",
    "dtm = tfidf.fit_transform(df['text'])\n",
    "dtm = pd.DataFrame(dtm.todense(), columns=tfidf.get_feature_names())\n",
    "\n",
    "dtm.head()"
   ]
  },
  {
   "cell_type": "code",
   "execution_count": 28,
   "metadata": {
    "colab": {
     "base_uri": "https://localhost:8080/"
    },
    "id": "FYgaS5fv_VPK",
    "outputId": "6864d6ca-692e-4be1-bbb2-ad72318539a4"
   },
   "outputs": [
    {
     "output_type": "execute_result",
     "data": {
      "text/plain": [
       "NearestNeighbors(algorithm='auto', leaf_size=30, metric='cosine',\n",
       "                 metric_params=None, n_jobs=None, n_neighbors=10, p=2,\n",
       "                 radius=1.0)"
      ]
     },
     "metadata": {},
     "execution_count": 28
    }
   ],
   "source": [
    "knn = NearestNeighbors(n_neighbors=10, metric='cosine')\n",
    "knn.fit(dtm)"
   ]
  },
  {
   "cell_type": "code",
   "execution_count": 29,
   "metadata": {
    "colab": {
     "base_uri": "https://localhost:8080/"
    },
    "id": "p1syz-UyFiKQ",
    "outputId": "79bff3ca-8db0-4c6a-8977-9e84c119377b"
   },
   "outputs": [
    {
     "output_type": "execute_result",
     "data": {
      "text/plain": [
       "(array([[0.22060221, 0.360075  , 0.41232573, 0.44787626, 0.46320116],\n",
       "        [0.62241562, 0.68596588, 0.69559506, 0.70158695, 0.71124444]]),\n",
       " array([[  0, 851, 313, 695, 866],\n",
       "        [  0, 955, 625, 826, 809]], dtype=int64))"
      ]
     },
     "metadata": {},
     "execution_count": 29
    }
   ],
   "source": [
    "input_texts = ['Focused', 'Depression']\n",
    "input_features = tfidf.transform(input_texts)\n",
    "\n",
    "knn.kneighbors(input_features, n_neighbors=5)"
   ]
  },
  {
   "cell_type": "code",
   "execution_count": 30,
   "metadata": {
    "id": "dUX_sZHkGC3u"
   },
   "outputs": [],
   "source": [
    "def recommender(text):\n",
    "  x = pd.DataFrame(columns=df.columns)\n",
    "  input_features = tfidf.transform(text)\n",
    "  for i in knn.kneighbors(input_features, n_neighbors=5, return_distance=False)[0]:\n",
    "    x = x.append(df.iloc[[i]])\n",
    "  return x"
   ]
  },
  {
   "cell_type": "code",
   "execution_count": 31,
   "metadata": {
    "colab": {
     "base_uri": "https://localhost:8080/",
     "height": 285
    },
    "id": "bxkm0eD1Gun_",
    "outputId": "26b1219b-3d81-4c72-a435-8aa49727c1e3"
   },
   "outputs": [
    {
     "output_type": "execute_result",
     "data": {
      "text/plain": [
       "     status              name    type breeder  \\\n",
       "1457      2  Central American  Sativa     NaN   \n",
       "1681      2  Thunderbird Rose  Sativa     NaN   \n",
       "1510      2         Hoodwreck  Sativa     NaN   \n",
       "1640      2      Space Needle  Sativa     NaN   \n",
       "1464      2      Citrus Punch  Sativa     NaN   \n",
       "\n",
       "                                                effects  \\\n",
       "1457                   Relaxed, Euphoric, Happy, Hungry   \n",
       "1681       Creative, Euphoric, Uplifted, Focused, Happy   \n",
       "1510      Euphoric, Happy, Creative, Energetic, Focused   \n",
       "1640  Uplifted, Euphoric, Happy, Hungry, Relaxed, Dr...   \n",
       "1464  Energetic, Focused, Happy, Uplifted, Relaxed, ...   \n",
       "\n",
       "                       ailment               flavor thc  thca cbd  cbda  \\\n",
       "1457              Pain, Stress               Earthy   0   0.0   0   0.0   \n",
       "1681  Depression, Pain, Stress  Rose, Sweet, Earthy   0   0.0   0   0.0   \n",
       "1510                Depression                Sweet   0   0.0   0   0.0   \n",
       "1640        Depression, Stress                 Pine   0   0.0   0   0.0   \n",
       "1464                Depression       Citrus, Orange   0   0.0   0   0.0   \n",
       "\n",
       "     location                                               text  \\\n",
       "1457      NaN   relaxed euphoric happy hungry pain stress sativa   \n",
       "1681      NaN  creative euphoric uplifted focused happy depre...   \n",
       "1510      NaN  euphoric happy creative energetic focused depr...   \n",
       "1640      NaN  uplifted euphoric happy hungry relaxed dry mou...   \n",
       "1464      NaN  energetic focused happy uplifted relaxed anxio...   \n",
       "\n",
       "                                                 lemmas  \n",
       "1457  [relaxed, euphoric, happy, hungry, pain, stres...  \n",
       "1681  [creative, euphoric, uplifted, focus, happy, d...  \n",
       "1510  [euphoric, happy, creative, energetic, focus, ...  \n",
       "1640  [uplifted, euphoric, happy, hungry, relaxed, d...  \n",
       "1464  [energetic, focus, happy, uplifted, relaxed, a...  "
      ],
      "text/html": "<div>\n<style scoped>\n    .dataframe tbody tr th:only-of-type {\n        vertical-align: middle;\n    }\n\n    .dataframe tbody tr th {\n        vertical-align: top;\n    }\n\n    .dataframe thead th {\n        text-align: right;\n    }\n</style>\n<table border=\"1\" class=\"dataframe\">\n  <thead>\n    <tr style=\"text-align: right;\">\n      <th></th>\n      <th>status</th>\n      <th>name</th>\n      <th>type</th>\n      <th>breeder</th>\n      <th>effects</th>\n      <th>ailment</th>\n      <th>flavor</th>\n      <th>thc</th>\n      <th>thca</th>\n      <th>cbd</th>\n      <th>cbda</th>\n      <th>location</th>\n      <th>text</th>\n      <th>lemmas</th>\n    </tr>\n  </thead>\n  <tbody>\n    <tr>\n      <th>1457</th>\n      <td>2</td>\n      <td>Central American</td>\n      <td>Sativa</td>\n      <td>NaN</td>\n      <td>Relaxed, Euphoric, Happy, Hungry</td>\n      <td>Pain, Stress</td>\n      <td>Earthy</td>\n      <td>0</td>\n      <td>0.0</td>\n      <td>0</td>\n      <td>0.0</td>\n      <td>NaN</td>\n      <td>relaxed euphoric happy hungry pain stress sativa</td>\n      <td>[relaxed, euphoric, happy, hungry, pain, stres...</td>\n    </tr>\n    <tr>\n      <th>1681</th>\n      <td>2</td>\n      <td>Thunderbird Rose</td>\n      <td>Sativa</td>\n      <td>NaN</td>\n      <td>Creative, Euphoric, Uplifted, Focused, Happy</td>\n      <td>Depression, Pain, Stress</td>\n      <td>Rose, Sweet, Earthy</td>\n      <td>0</td>\n      <td>0.0</td>\n      <td>0</td>\n      <td>0.0</td>\n      <td>NaN</td>\n      <td>creative euphoric uplifted focused happy depre...</td>\n      <td>[creative, euphoric, uplifted, focus, happy, d...</td>\n    </tr>\n    <tr>\n      <th>1510</th>\n      <td>2</td>\n      <td>Hoodwreck</td>\n      <td>Sativa</td>\n      <td>NaN</td>\n      <td>Euphoric, Happy, Creative, Energetic, Focused</td>\n      <td>Depression</td>\n      <td>Sweet</td>\n      <td>0</td>\n      <td>0.0</td>\n      <td>0</td>\n      <td>0.0</td>\n      <td>NaN</td>\n      <td>euphoric happy creative energetic focused depr...</td>\n      <td>[euphoric, happy, creative, energetic, focus, ...</td>\n    </tr>\n    <tr>\n      <th>1640</th>\n      <td>2</td>\n      <td>Space Needle</td>\n      <td>Sativa</td>\n      <td>NaN</td>\n      <td>Uplifted, Euphoric, Happy, Hungry, Relaxed, Dr...</td>\n      <td>Depression, Stress</td>\n      <td>Pine</td>\n      <td>0</td>\n      <td>0.0</td>\n      <td>0</td>\n      <td>0.0</td>\n      <td>NaN</td>\n      <td>uplifted euphoric happy hungry relaxed dry mou...</td>\n      <td>[uplifted, euphoric, happy, hungry, relaxed, d...</td>\n    </tr>\n    <tr>\n      <th>1464</th>\n      <td>2</td>\n      <td>Citrus Punch</td>\n      <td>Sativa</td>\n      <td>NaN</td>\n      <td>Energetic, Focused, Happy, Uplifted, Relaxed, ...</td>\n      <td>Depression</td>\n      <td>Citrus, Orange</td>\n      <td>0</td>\n      <td>0.0</td>\n      <td>0</td>\n      <td>0.0</td>\n      <td>NaN</td>\n      <td>energetic focused happy uplifted relaxed anxio...</td>\n      <td>[energetic, focus, happy, uplifted, relaxed, a...</td>\n    </tr>\n  </tbody>\n</table>\n</div>"
     },
     "metadata": {},
     "execution_count": 31
    }
   ],
   "source": [
    "recommender(['Sativa'])"
   ]
  },
  {
   "cell_type": "code",
   "execution_count": null,
   "metadata": {
    "colab": {
     "base_uri": "https://localhost:8080/",
     "height": 610
    },
    "id": "aEz9mfHHg2zV",
    "outputId": "ed082fc0-4252-4f1f-d48d-107ec9708c02"
   },
   "outputs": [
    {
     "data": {
      "text/html": [
       "<div>\n",
       "<style scoped>\n",
       "    .dataframe tbody tr th:only-of-type {\n",
       "        vertical-align: middle;\n",
       "    }\n",
       "\n",
       "    .dataframe tbody tr th {\n",
       "        vertical-align: top;\n",
       "    }\n",
       "\n",
       "    .dataframe thead th {\n",
       "        text-align: right;\n",
       "    }\n",
       "</style>\n",
       "<table border=\"1\" class=\"dataframe\">\n",
       "  <thead>\n",
       "    <tr style=\"text-align: right;\">\n",
       "      <th></th>\n",
       "      <th>status</th>\n",
       "      <th>Name</th>\n",
       "      <th>type</th>\n",
       "      <th>breeder</th>\n",
       "      <th>effects</th>\n",
       "      <th>ailment</th>\n",
       "      <th>flavor</th>\n",
       "      <th>thc</th>\n",
       "      <th>thca</th>\n",
       "      <th>cbd</th>\n",
       "      <th>cbda</th>\n",
       "      <th>text</th>\n",
       "      <th>lemmas</th>\n",
       "    </tr>\n",
       "    <tr>\n",
       "      <th>id</th>\n",
       "      <th></th>\n",
       "      <th></th>\n",
       "      <th></th>\n",
       "      <th></th>\n",
       "      <th></th>\n",
       "      <th></th>\n",
       "      <th></th>\n",
       "      <th></th>\n",
       "      <th></th>\n",
       "      <th></th>\n",
       "      <th></th>\n",
       "      <th></th>\n",
       "      <th></th>\n",
       "    </tr>\n",
       "  </thead>\n",
       "  <tbody>\n",
       "    <tr>\n",
       "      <th>1</th>\n",
       "      <td>1</td>\n",
       "      <td>100 OG</td>\n",
       "      <td>Hybrid</td>\n",
       "      <td>Old School Breeder's Association</td>\n",
       "      <td>Focused</td>\n",
       "      <td>Depression</td>\n",
       "      <td>Citrus</td>\n",
       "      <td>127</td>\n",
       "      <td>0.0</td>\n",
       "      <td>16</td>\n",
       "      <td>0.0</td>\n",
       "      <td>focused depression hybrid</td>\n",
       "      <td>[focus, depression, hybrid]</td>\n",
       "    </tr>\n",
       "    <tr>\n",
       "      <th>3</th>\n",
       "      <td>1</td>\n",
       "      <td>A-10</td>\n",
       "      <td>Indica</td>\n",
       "      <td>NaN</td>\n",
       "      <td>Relaxed, Happy, Uplifted, Energetic, Sleepy, D...</td>\n",
       "      <td>Stress, Insomnia, Pain, Muscle Spasms, Depression</td>\n",
       "      <td>Citrus, Sweet</td>\n",
       "      <td>0</td>\n",
       "      <td>NaN</td>\n",
       "      <td>0</td>\n",
       "      <td>NaN</td>\n",
       "      <td>relaxed happy uplifted energetic sleepy dry mo...</td>\n",
       "      <td>[relaxed, happy, uplifted, energetic, sleepy, ...</td>\n",
       "    </tr>\n",
       "    <tr>\n",
       "      <th>4</th>\n",
       "      <td>1</td>\n",
       "      <td>Acapulco Gold</td>\n",
       "      <td>Sativa</td>\n",
       "      <td>NaN</td>\n",
       "      <td>Happy, Euphoric, Uplifted, Relaxed, Creative, ...</td>\n",
       "      <td>Depression, Stress, Pain, Lack of Appetite</td>\n",
       "      <td>Earthy, Citrus</td>\n",
       "      <td>0</td>\n",
       "      <td>NaN</td>\n",
       "      <td>0</td>\n",
       "      <td>NaN</td>\n",
       "      <td>happy euphoric uplifted relaxed creative dry m...</td>\n",
       "      <td>[happy, euphoric, uplifted, relaxed, creative,...</td>\n",
       "    </tr>\n",
       "    <tr>\n",
       "      <th>5</th>\n",
       "      <td>1</td>\n",
       "      <td>Afghani Bullrider</td>\n",
       "      <td>Hybrid</td>\n",
       "      <td>Unknown Breeder</td>\n",
       "      <td>Uplifted, Relaxed, Happy, Euphoric, Dry Mouth,...</td>\n",
       "      <td>Stress, Depression, Insomnia, Pain</td>\n",
       "      <td>Sweet, Pine, Earthy</td>\n",
       "      <td>127</td>\n",
       "      <td>NaN</td>\n",
       "      <td>0</td>\n",
       "      <td>NaN</td>\n",
       "      <td>uplifted relaxed happy euphoric dry mouth para...</td>\n",
       "      <td>[uplifted, relax, happy, euphoric, dry, mouth,...</td>\n",
       "    </tr>\n",
       "    <tr>\n",
       "      <th>6</th>\n",
       "      <td>1</td>\n",
       "      <td>Afghan Big Bud</td>\n",
       "      <td>Indica</td>\n",
       "      <td>NaN</td>\n",
       "      <td>Euphoric, Happy, Talkative, Relaxed, Sleepy, D...</td>\n",
       "      <td>Stress, Pain, Nausea, Insomnia, Depression</td>\n",
       "      <td>Lemon, Lavender</td>\n",
       "      <td>0</td>\n",
       "      <td>NaN</td>\n",
       "      <td>0</td>\n",
       "      <td>NaN</td>\n",
       "      <td>euphoric happy talkative relaxed sleepy dry mo...</td>\n",
       "      <td>[euphoric, happy, talkative, relaxed, sleepy, ...</td>\n",
       "    </tr>\n",
       "    <tr>\n",
       "      <th>...</th>\n",
       "      <td>...</td>\n",
       "      <td>...</td>\n",
       "      <td>...</td>\n",
       "      <td>...</td>\n",
       "      <td>...</td>\n",
       "      <td>...</td>\n",
       "      <td>...</td>\n",
       "      <td>...</td>\n",
       "      <td>...</td>\n",
       "      <td>...</td>\n",
       "      <td>...</td>\n",
       "      <td>...</td>\n",
       "      <td>...</td>\n",
       "    </tr>\n",
       "    <tr>\n",
       "      <th>2174</th>\n",
       "      <td>2</td>\n",
       "      <td>X-Wing</td>\n",
       "      <td>Indica</td>\n",
       "      <td>NaN</td>\n",
       "      <td>Happy, Sleepy, Relaxed, Creative, Hungry, Dry ...</td>\n",
       "      <td>Stress, Depression, Insomnia, Pain, Lack of Ap...</td>\n",
       "      <td>Earthy, Sweet</td>\n",
       "      <td>0</td>\n",
       "      <td>0.0</td>\n",
       "      <td>0</td>\n",
       "      <td>0.0</td>\n",
       "      <td>happy sleepy relaxed creative hungry dry mouth...</td>\n",
       "      <td>[happy, sleepy, relaxed, creative, hungry, dry...</td>\n",
       "    </tr>\n",
       "    <tr>\n",
       "      <th>2175</th>\n",
       "      <td>2</td>\n",
       "      <td>XXX 420</td>\n",
       "      <td>Indica</td>\n",
       "      <td>NaN</td>\n",
       "      <td>Relaxed, Talkative, Happy, Uplifted, Energetic...</td>\n",
       "      <td>Depression, Stress, Insomnia, Lack of Appetite</td>\n",
       "      <td>Sweet, Berry, Blueberry</td>\n",
       "      <td>0</td>\n",
       "      <td>0.0</td>\n",
       "      <td>0</td>\n",
       "      <td>0.0</td>\n",
       "      <td>relaxed talkative happy uplifted energetic dry...</td>\n",
       "      <td>[relaxed, talkative, happy, uplifted, energeti...</td>\n",
       "    </tr>\n",
       "    <tr>\n",
       "      <th>2176</th>\n",
       "      <td>2</td>\n",
       "      <td>XXX OG</td>\n",
       "      <td>Indica</td>\n",
       "      <td>NaN</td>\n",
       "      <td>Sleepy, Relaxed, Happy, Euphoric, Uplifted, Dr...</td>\n",
       "      <td>Stress, Pain, Insomnia, Depression, Lack of Ap...</td>\n",
       "      <td>Earthy, Pine</td>\n",
       "      <td>0</td>\n",
       "      <td>0.0</td>\n",
       "      <td>0</td>\n",
       "      <td>0.0</td>\n",
       "      <td>sleepy relaxed happy euphoric uplifted dry mou...</td>\n",
       "      <td>[sleepy, relax, happy, euphoric, uplifted, dry...</td>\n",
       "    </tr>\n",
       "    <tr>\n",
       "      <th>2177</th>\n",
       "      <td>2</td>\n",
       "      <td>Zkittlez</td>\n",
       "      <td>Indica</td>\n",
       "      <td>NaN</td>\n",
       "      <td>Relaxed, Happy, Euphoric, Uplifted, Creative, ...</td>\n",
       "      <td>Stress, Depression, Pain, Muscle Spasms</td>\n",
       "      <td>Sweet, Berry, Citrus</td>\n",
       "      <td>0</td>\n",
       "      <td>0.0</td>\n",
       "      <td>0</td>\n",
       "      <td>0.0</td>\n",
       "      <td>relaxed happy euphoric uplifted creative dry m...</td>\n",
       "      <td>[relax, happy, euphoric, uplifted, creative, d...</td>\n",
       "    </tr>\n",
       "    <tr>\n",
       "      <th>2178</th>\n",
       "      <td>2</td>\n",
       "      <td>Zoom Pie</td>\n",
       "      <td>Indica</td>\n",
       "      <td>NaN</td>\n",
       "      <td>Hungry, Uplifted, Relaxed, Happy</td>\n",
       "      <td>Muscle Spasms, Pain, Insomnia, Lack of Appetite</td>\n",
       "      <td>Berry, Earthy</td>\n",
       "      <td>0</td>\n",
       "      <td>0.0</td>\n",
       "      <td>0</td>\n",
       "      <td>0.0</td>\n",
       "      <td>hungry uplifted relaxed happy muscle spasms pa...</td>\n",
       "      <td>[hungry, uplifted, relaxed, happy, muscle, spa...</td>\n",
       "    </tr>\n",
       "  </tbody>\n",
       "</table>\n",
       "<p>971 rows × 13 columns</p>\n",
       "</div>"
      ],
      "text/plain": [
       "      status  ...                                             lemmas\n",
       "id            ...                                                   \n",
       "1          1  ...                        [focus, depression, hybrid]\n",
       "3          1  ...  [relaxed, happy, uplifted, energetic, sleepy, ...\n",
       "4          1  ...  [happy, euphoric, uplifted, relaxed, creative,...\n",
       "5          1  ...  [uplifted, relax, happy, euphoric, dry, mouth,...\n",
       "6          1  ...  [euphoric, happy, talkative, relaxed, sleepy, ...\n",
       "...      ...  ...                                                ...\n",
       "2174       2  ...  [happy, sleepy, relaxed, creative, hungry, dry...\n",
       "2175       2  ...  [relaxed, talkative, happy, uplifted, energeti...\n",
       "2176       2  ...  [sleepy, relax, happy, euphoric, uplifted, dry...\n",
       "2177       2  ...  [relax, happy, euphoric, uplifted, creative, d...\n",
       "2178       2  ...  [hungry, uplifted, relaxed, happy, muscle, spa...\n",
       "\n",
       "[971 rows x 13 columns]"
      ]
     },
     "execution_count": 44,
     "metadata": {
      "tags": []
     },
     "output_type": "execute_result"
    }
   ],
   "source": [
    "df = df.rename(columns={'name': 'Name'})\n",
    "df"
   ]
  },
  {
   "cell_type": "code",
   "execution_count": 32,
   "metadata": {
    "colab": {
     "base_uri": "https://localhost:8080/"
    },
    "id": "Gexh2D9fcbb-",
    "outputId": "a1a30e2e-c008-402c-fae1-a10fea8f62cb"
   },
   "outputs": [
    {
     "output_type": "stream",
     "name": "stdout",
     "text": [
      "Python 3.8.5\n"
     ]
    }
   ],
   "source": [
    "!python --version"
   ]
  },
  {
   "cell_type": "code",
   "execution_count": 33,
   "metadata": {
    "id": "sGw_17RlpgYb"
   },
   "outputs": [],
   "source": [
    "import pickle\n",
    "\n",
    "filename = 'model.pkl'\n",
    "pickle_model = open(filename, 'wb')\n",
    "pickle.dump(knn, pickle_model)\n",
    "pickle_model.close()"
   ]
  },
  {
   "cell_type": "code",
   "execution_count": 34,
   "metadata": {
    "id": "ShoDBteV-CfM"
   },
   "outputs": [],
   "source": [
    "filename = 'tfidf.pkl'\n",
    "pickle_model = open(filename, 'wb')\n",
    "pickle.dump(tfidf, pickle_model)\n",
    "pickle_model.close()"
   ]
  },
  {
   "cell_type": "code",
   "execution_count": null,
   "metadata": {
    "id": "Q_3wcKlYvci7"
   },
   "outputs": [],
   "source": [
    "for i in ['Indica', 'Depressed']"
   ]
  },
  {
   "cell_type": "code",
   "execution_count": null,
   "metadata": {
    "id": "p9n5Wzft_6ly"
   },
   "outputs": [],
   "source": [
    "i = 1"
   ]
  },
  {
   "cell_type": "code",
   "execution_count": null,
   "metadata": {
    "id": "a-vQdwhI_8Cs"
   },
   "outputs": [],
   "source": [
    "type(i)"
   ]
  },
  {
   "cell_type": "code",
   "execution_count": null,
   "metadata": {
    "id": "CtU3Ejfs_89F"
   },
   "outputs": [],
   "source": [
    "x = ['indica']\n",
    "y = ['depression']\n",
    "text = []"
   ]
  },
  {
   "cell_type": "code",
   "execution_count": null,
   "metadata": {
    "id": "u0qCYk6SBYmt"
   },
   "outputs": [],
   "source": [
    "for i in [x,y]:\n",
    "  text + i"
   ]
  },
  {
   "cell_type": "code",
   "execution_count": null,
   "metadata": {
    "id": "LUBXUyEGBeva"
   },
   "outputs": [],
   "source": [
    "text"
   ]
  },
  {
   "cell_type": "code",
   "execution_count": null,
   "metadata": {
    "id": "3TO1a8fZBfDV"
   },
   "outputs": [],
   "source": []
  }
 ],
 "metadata": {
  "colab": {
   "name": "BuildWeekUnit4.ipynb",
   "provenance": []
  },
  "kernelspec": {
   "display_name": "Python 3",
   "language": "python",
   "name": "python3"
  },
  "language_info": {
   "codemirror_mode": {
    "name": "ipython",
    "version": 3
   },
   "file_extension": ".py",
   "mimetype": "text/x-python",
   "name": "python",
   "nbconvert_exporter": "python",
   "pygments_lexer": "ipython3",
   "version": "3.8.5-final"
  }
 },
 "nbformat": 4,
 "nbformat_minor": 1
}